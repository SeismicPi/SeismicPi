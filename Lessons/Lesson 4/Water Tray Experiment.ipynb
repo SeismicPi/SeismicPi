{
 "cells": [
  {
   "cell_type": "markdown",
   "metadata": {},
   "source": [
    "#Wave Amplitude and Velocity\n",
    "\n",
    "##Objectives\n",
    "1. To observe the relationships between the energy of an input source and the _amplitude_ of a wave.\n",
    "2. To observe the relationships between the energy of an input source and the _velocity_ of a wave.\n",
    "\n",
    "##Materials\n",
    "1. One large circular tray (about a meter in diameter)\n",
    "2. One rubber ball\n",
    "3. Timers\n",
    "4. Water\n",
    "5. Corn startch\n",
    "\n",
    "##Introduction\n",
    "A **wave** is a disturbance through a medium that transfers energy. There are two types of waves **transverse** and **longitudinal**. In a transverse wave, the disturbance is perpendicular to the direction of propagation. In a longitudinal wave, the disturbance is parallel to the direction of propagation.\n",
    "\n",
    "<img src=\"TransverseWave.gif\" height=\"45%\" width=\"45%\"> \n",
    "<img src=\"compressionwave.gif\" height=\"45%\" width=\"45%\">\n",
    "\n",
    "Some important properties of waves are their _amplitude_, _frequency_, _velocity_, and _wave length_. \n",
    "\n",
    "<img src=\"waveDiagram.jpg\" width=\"60%\"> \n",
    "\n",
    "The amplitude describes how tall the wave is, the velocity describes how long it is. The velocity of the wave describes how fast a wave can propagate and the frequency is how many \"cycles\" or instances of a full wave length the wave can travel in one second.\n",
    "\n",
    "\n",
    "##Experiment\n",
    "* Fill the cirular tray with water. The water depth must be at least as large as the diameter of the rubber ball.\n",
    "* Have students copy down the following table on paper.\n",
    "\n",
    "|   Water to Corn Starch                        \t|                       1:0 \t|                         8:1 \t|                                4:1 \t|                            2:1 \t|\n",
    "|-----------------------------------------------\t|---------------------------\t|:---------------------------:\t|:----------------------------------:\t|--------------------------------\t|\n",
    "| .5 meter \t|  \t|  \t|  \t|  \t|\n",
    "| 1 meter \t|  \t|  \t|  \t|  \t|\n",
    "| 1.5 meter \t|  \t|  \t|  \t|  \t| |\n",
    "Each entry in the table corresponds to how long the first wave front created by dropping the rubber ball from a certain height takes to reach the edges of the circular tray. Have them record any observations about any patterns about the waves.\n",
    "\n",
    "* Have students record the time taken for the wave to propagate through the water/corn starch solutions\n",
    "* It is recommended to keep the volume of water constant and add corn starch after you are done with the three trials. (For example if in the 1:0 ratio we use 2 litres of water and 0 litres of cornstarch, we would then use .25 litres, .5 litres, and 1 litre of cornstarch)\n",
    "\n",
    "##Questions\n",
    "* Did the height of the ball affect the period of propagation?\n",
    "* What is the velocity of the wave?\n",
    "* Which property is affected by how high initially the ball was?\n",
    "* What kind of wave are we observing when we drop a ball in the pond?\n",
    "* What is the relation between the _viscocity_ (as the percentage of corn starch increases, the velocity increases) of the medium and the period of propagation?\n",
    "\n",
    "##Exploration\n",
    "* Identify other examples of tranverse and longitudinal waves"
   ]
  },
  {
   "cell_type": "code",
   "execution_count": null,
   "metadata": {
    "collapsed": true
   },
   "outputs": [],
   "source": []
  }
 ],
 "metadata": {
  "kernelspec": {
   "display_name": "Python 2",
   "language": "python",
   "name": "python2"
  },
  "language_info": {
   "codemirror_mode": {
    "name": "ipython",
    "version": 2
   },
   "file_extension": ".py",
   "mimetype": "text/x-python",
   "name": "python",
   "nbconvert_exporter": "python",
   "pygments_lexer": "ipython2",
   "version": "2.7.10"
  }
 },
 "nbformat": 4,
 "nbformat_minor": 0
}
