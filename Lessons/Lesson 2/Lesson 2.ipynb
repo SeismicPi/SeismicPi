{
 "cells": [
  {
   "cell_type": "markdown",
   "metadata": {},
   "source": [
    "#Lesson 2\n",
    "\n",
    "\n",
    "##Analog to Digital\n",
    "\n",
    "This lesson will cover how to convert **analog values to digital values**, how to **log data** and view the data over a time period.\n",
    "\n",
    "If you remember from the last lesson, a lot of sensors are analog, meaning they can output values from a range. We also mentioned how it was troublesome because a lot of devices (such as the raspberry pi) can only read digital values, so they would not be able to directly get information from the analog sensors. In order to combat this problem, we must convert the analog values into digital values via an **ADC** (analog to digital converter).\n",
    "\n",
    "In the last lesson, it was mentioned that digital values can only take on the values of $0$ or $1$. I lied. Kind of. It wasn't a lie that digital values can only be 0 or 1, however, this only applies to a single bit. But when we put more than one bit together, the different combinations of 0 and 1 may produce many unique outputs.\n",
    "\n",
    "For example: One  bit by itself can be: 0 or 1.\n",
    "\n",
    "When we put two bits together we have four different combinations!\n",
    "\n",
    "| Second Bit | First Bit |\n",
    "|------------|-----------|\n",
    "|      0     |     0     |\n",
    "|      0     |     1     |\n",
    "|      1     |     0     |\n",
    "|      1     |     1     |\n",
    "\n",
    "Create a table by hand for all the bit combinations of three bits. How many patterns could you find? Is there a pattern emerging for how many values $n$ number of bits can create?\n",
    "\n",
    "By now you may notice that every time we add a bit, the number of patterns we can create is double the amount of patterns we could have created without the extra added bit, e.g. one bit has two patterns, two bits have four patterns, three bits have eight patterns, etc. In general $n$ bits can take on $2^n$ patterns.\n",
    "\n",
    "But how can this be used to help represent analog values? Well, even though we can't represent _all_ the values an analog sensor can output, we can represent _a lot_ of them if we have enough bits. For example, lets say an analog signal can produce a value from 0 to 3. If we had one bit \"0\" would represent 0 and \"1\" would represent three. However, if the analog value gave us the value of 1, we wouldn't know how to represent it, and if we did, there would be a really large **error**. But if we had two bits, we can now have four values to represent. So $00$ could represent $0$, $01$ could represent $1$, $10$ would represent $2$ and $11$ would represent $3$. **NOTE THAT $00, 01, 10, 11$ DO NOT CORRESPOND TO ZERO, ONE, TEN, ELEVEN.** So now we see we can respresent four of the values from 0 to 3. If have more and more bits, we will be able to represent more and more values, and when given an analog value, we can choose the digital value that is closest to it. So an ADC takes in an analog value and returns the digital value that bests represents it.\n",
    "\n",
    "The graph below shows an analog signal. Given a three bit resolution, can you give the digital value at certain time points? There are eight (since $2^3 = 8$) horizontal lines, each representing a bit pattern that take on the values in the range of the analog signal.\n",
    "\n",
    "<img src=\"ADC.png\" alt=\"Drawing\" style=\"width: 750px;\"/>\n",
    "\n",
    "An example is worked through below. I want to know what the the digital value of the signal is at the time $1.2$. I first find the point on the analog signal that corresponds with $1.2$ on the $x$-axis\n",
    "\n",
    "<img src=\"adc_example1.png\" alt=\"Drawing\" style=\"width: 750px;\"/>\n",
    "\n",
    "<img src=\"adc_example2.png\" alt=\"Drawing\" style=\"width: 750px;\"/>\n",
    "\n",
    "We then find the horizontal line that is closest to that point, in this case its the upper most one.\n",
    "\n",
    "<img src=\"adc_example3.png\" alt=\"Drawing\" style=\"width: 750px;\"/>\n",
    "\n",
    "Thus, the digital value that is returned is the bit pattern that corresponds with this line. In this case its $111$.\n",
    "\n",
    "Find the bit pattern that is returned at times $0.2$, $0.4$, $0.8$, $1.6$ and $1.8$."
   ]
  },
  {
   "cell_type": "markdown",
   "metadata": {
    "collapsed": true
   },
   "source": [
    "So it should be clear by now that as we have more and more bits, we can be more and more accurate with our estimations. So how come we don't always use one hundred, one thousand, one million, bits to estimate our signal? Although more bits has its benefits, it also has its tradeoffs. Since we have to represent all of these bits in memory, if we have a really large bit resolution, each reading will take up more memory. \n",
    "\n",
    "Since the raspberry pi cannot directly read in analog signals, we first process the analog signals through a $24$ bit resolution ADC, and then the pi reads the digital value from the ADC.\n",
    "\n"
   ]
  },
  {
   "cell_type": "markdown",
   "metadata": {},
   "source": [
    "##Data Logging\n",
    "\n",
    "Now we know how to read data from all types of sensors, how do we use it? The first thing that we want to do before anything else is to **log** the data. Data logging is the collection of data over a period of time, and then analyzing the patterns in the data. We will explore how we can do this in python. Firstly we will introduce a **data structure** that can be used to remember and store our data. This data structure is called the **list**. They are essentially what they sound like, a list of items in order. The example below shows the list of integers from 1 to 10. We can print lists like we did with other entities before. In the example below, we are binding the list to a variable called one_to_ten."
   ]
  },
  {
   "cell_type": "code",
   "execution_count": 2,
   "metadata": {
    "collapsed": false
   },
   "outputs": [
    {
     "name": "stdout",
     "output_type": "stream",
     "text": [
      "[1, 2, 3, 4, 5, 6, 7, 8, 9, 10]\n"
     ]
    }
   ],
   "source": [
    "one_to_ten = [1,2,3,4,5,6,7,8,9,10]\n",
    "print one_to_ten"
   ]
  },
  {
   "cell_type": "markdown",
   "metadata": {},
   "source": [
    "This is great, because now we can remember values that our sensors returned at specific instances of time. There are many operations we can use to modify a list. One important one that we will use here is the **append** operation. Essentially what it lets us do is add an element to the end of the list. An example is shown below. Initially one_to_ten is empty, we want to see how we can fill it up. Initially we bind one_to_ten to an empty list, which is denoted by ```[]```."
   ]
  },
  {
   "cell_type": "code",
   "execution_count": 5,
   "metadata": {
    "collapsed": false
   },
   "outputs": [
    {
     "name": "stdout",
     "output_type": "stream",
     "text": [
      "[1]\n",
      "[1, 2]\n",
      "[1, 2, 3]\n",
      "[1, 2, 3, 4]\n",
      "[1, 2, 3, 4, 5]\n",
      "[1, 2, 3, 4, 5, 6]\n",
      "[1, 2, 3, 4, 5, 6, 7]\n",
      "[1, 2, 3, 4, 5, 6, 7, 8]\n",
      "[1, 2, 3, 4, 5, 6, 7, 8, 9]\n",
      "[1, 2, 3, 4, 5, 6, 7, 8, 9, 10]\n"
     ]
    }
   ],
   "source": [
    "one_to_ten = []\n",
    "one_to_ten.append(1)\n",
    "print one_to_ten\n",
    "one_to_ten.append(2)\n",
    "print one_to_ten\n",
    "one_to_ten.append(3)\n",
    "print one_to_ten\n",
    "one_to_ten.append(4)\n",
    "print one_to_ten\n",
    "one_to_ten.append(5)\n",
    "print one_to_ten\n",
    "one_to_ten.append(6)\n",
    "print one_to_ten\n",
    "one_to_ten.append(7)\n",
    "print one_to_ten\n",
    "one_to_ten.append(8)\n",
    "print one_to_ten\n",
    "one_to_ten.append(9)\n",
    "print one_to_ten\n",
    "one_to_ten.append(10)\n",
    "print one_to_ten"
   ]
  },
  {
   "cell_type": "markdown",
   "metadata": {},
   "source": [
    "We can see that every time we called one_to_ten.append(x), we appended x to the list. For more operations we can perform on lists, see the python documentation [here](https://docs.python.org/2/tutorial/datastructures.html).\n",
    "\n",
    "But looking at the code above, this is quite cumbersome. It involves a lot of typing and a lot of code. Programmers are lazy, so they invented a nice little way to let us not write as much code by using **loops**. Loops are a construct that repeat a section of code a certain number of times, as defined by the programming. One example is shown below. This is the **while loop**"
   ]
  },
  {
   "cell_type": "code",
   "execution_count": 9,
   "metadata": {
    "collapsed": false
   },
   "outputs": [
    {
     "name": "stdout",
     "output_type": "stream",
     "text": [
      "1\n",
      "2\n",
      "3\n",
      "4\n",
      "5\n",
      "6\n",
      "7\n",
      "8\n",
      "9\n",
      "10\n"
     ]
    }
   ],
   "source": [
    "i = 1\n",
    "while(i <= 10):\n",
    "    print i\n",
    "    i = i+1"
   ]
  },
  {
   "cell_type": "markdown",
   "metadata": {},
   "source": [
    "Let me explain what the code is doing. If you remember the ```if/else``` paradigm from the previous lesson, you'll remember that the ```if``` statement takes in a boolean value, and runs the code in the ```if``` block. A while loop also does this, except when it finishes running the code, it returns back to the condition statement, and if it is still true, runs the code again, whereas an ```if``` statement will just continue. In the code above, initial ```i``` is equal to 1, which we print. We then **increment** i by 1, so now i = 2. Since 2 <= 10, we run the code again, and print i, then increment. We keep doing this until i is incremented to 11, at which point 11 <= 10 is not true, so the while loop terminates. Note, it is important that we increment i by 1 every time, or else the condition statement is always true. \n",
    "```python\n",
    "i = 1\n",
    "while(i <= 10):\n",
    "    print i\n",
    "    \n",
    "```\n",
    "Lets step through the code above. We initialize i to be 1. We check that 1 <= 10, so we print i, we then return to the coniditional statement, but it has not changed and i is still = to 1, so we print i again. You can see that this loop is never going to exit! This is known as an infinite loop and we generally try to avoid it. One important thing to remember is not to forget to increment our variable! \n",
    "\n",
    "However, we don't necessarily have to increment by 1. We can also increment by 3. See the example below. Try to see why it produces the output."
   ]
  },
  {
   "cell_type": "code",
   "execution_count": 10,
   "metadata": {
    "collapsed": false
   },
   "outputs": [
    {
     "name": "stdout",
     "output_type": "stream",
     "text": [
      "1\n",
      "4\n",
      "7\n",
      "10\n"
     ]
    }
   ],
   "source": [
    "i = 1;\n",
    "while(i <= 10):\n",
    "    print i\n",
    "    i = i + 3"
   ]
  },
  {
   "cell_type": "markdown",
   "metadata": {},
   "source": [
    "In the block below, write some code, using a while loop, that will print out every even number, starting from 2 and ending with 20. It should print out\n",
    "```\n",
    "2\n",
    "4\n",
    "6\n",
    "8\n",
    "10\n",
    "12\n",
    "14\n",
    "16\n",
    "18\n",
    "20\n",
    "```"
   ]
  },
  {
   "cell_type": "code",
   "execution_count": 11,
   "metadata": {
    "collapsed": false
   },
   "outputs": [
    {
     "name": "stdout",
     "output_type": "stream",
     "text": [
      "2\n",
      "4\n",
      "6\n",
      "8\n",
      "10\n",
      "12\n",
      "14\n",
      "16\n",
      "18\n",
      "20\n"
     ]
    }
   ],
   "source": [
    "#WRITE YOUR CODE HERE\n",
    "\n",
    "#SOlUTION\n",
    "i = 2\n",
    "while(i <= 20):\n",
    "    print i\n",
    "    i = i+2"
   ]
  },
  {
   "cell_type": "markdown",
   "metadata": {},
   "source": [
    "Now we can easily create the list one_to_ten by using a loop! Try to see if you can make one_to_ten by using append and a while loop below."
   ]
  },
  {
   "cell_type": "code",
   "execution_count": 12,
   "metadata": {
    "collapsed": false
   },
   "outputs": [
    {
     "name": "stdout",
     "output_type": "stream",
     "text": [
      "[1, 2, 3, 4, 5, 6, 7, 8, 9, 10]\n"
     ]
    }
   ],
   "source": [
    "#WRITE YOUR CODE HERE\n",
    "one_to_ten = []\n",
    "#SOLUTION\n",
    "i = 1\n",
    "while(i <= 10):\n",
    "    one_to_ten.append(i)\n",
    "    i = i+1\n",
    "    \n",
    "print one_to_ten"
   ]
  },
  {
   "cell_type": "markdown",
   "metadata": {},
   "source": [
    "Now we can see how we use these tools to log data from our sensors. Lets log the temperature of the room over 5 seconds.\n",
    "\n",
    "We can get the current temperature by calling board.getTemperature() and append it to a list. Say we want to take 5 samples over the 5 seconds. This means that we take a sample every second. So we want to wait a second between additions to our list that remembers the previous temperatures. This can be done by calling time.sleep(1), which basically just tells the computer to wait 1 second before continuing. See if you can implement this data logger below."
   ]
  },
  {
   "cell_type": "code",
   "execution_count": 14,
   "metadata": {
    "collapsed": true
   },
   "outputs": [],
   "source": [
    "#WRITE YOUR CODE BELOW\n",
    "import time\n",
    "#import board\n",
    "temperatures = []\n",
    "\n",
    "#SOLUTION\n",
    "i = 0\n",
    "while(i <= 5):\n",
    "    #temperatures.append(board.getTemperature)\n",
    "    i = i+1\n",
    "    times."
   ]
  },
  {
   "cell_type": "markdown",
   "metadata": {},
   "source": [
    "Congratulations, you've made your first data logger! We could easily modify this code to take temperatures over an entire day, or a week, or a month, or even a year! Now we have to discuss a concept called sample rate. Simply put, a sample rate is how many samples we take a second. In the example above we had a sample rate of 1, because we took one sample every second. If we had taken 10 samples over 5 seconds, we would have a 0.5 second delay between each sample, and had a sample rate of 2, because we would have taken 2 samples every single second. In general we can see that $sample rate = \\frac{total samples}{total time}$. In general a higher sample rate is good because it allows us to see more data points between points. If we have too low of a sample rate we won't be able to see any patterns/how the temperature changes, it'll just be telling us what the temperature is at certain times. \n",
    "\n",
    "Once we have a list of our values, we can visualize it through python's plotter. The code below is written to view the temperature."
   ]
  },
  {
   "cell_type": "code",
   "execution_count": 19,
   "metadata": {
    "collapsed": false
   },
   "outputs": [],
   "source": [
    "import matplotlib.pyplot as plot\n",
    "plot.plot(temperatures)\n",
    "plot.show()"
   ]
  },
  {
   "cell_type": "code",
   "execution_count": null,
   "metadata": {
    "collapsed": true
   },
   "outputs": [],
   "source": []
  }
 ],
 "metadata": {
  "kernelspec": {
   "display_name": "Python 2",
   "language": "python",
   "name": "python2"
  },
  "language_info": {
   "codemirror_mode": {
    "name": "ipython",
    "version": 2
   },
   "file_extension": ".py",
   "mimetype": "text/x-python",
   "name": "python",
   "nbconvert_exporter": "python",
   "pygments_lexer": "ipython2",
   "version": "2.7.10"
  }
 },
 "nbformat": 4,
 "nbformat_minor": 0
}
