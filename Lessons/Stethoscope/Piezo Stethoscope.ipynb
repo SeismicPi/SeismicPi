{
 "cells": [
  {
   "cell_type": "markdown",
   "metadata": {},
   "source": [
    "#Piezo Stethoscope\n",
    "\n",
    "In this module we will be creating a sthethoscope to monitor our heartbeats via a piezosensor and learn how log and read data. The idea is that if you tape a contact microphone directly to your skin, it will pick up on your pulse and generate a voltage every time your heart beats. We can then view this voltage-plot in real time as well as logging the data to a SD card so it can be analysed later. Using a piezoelectric sensor has been trialed in real clinical settings to as an inexpensive method to monitor heart rate, respiration rate, and other vital functions of the body. \n",
    "####Materials Needed\n",
    "1. Raspberry Pi\n",
    "2. HAT Board //insert actual name here\n",
    "3. Contact microphones\n",
    "4. One SD card\n",
    "\n",
    "####Steps Outline\n",
    "1. Connect the HAT Board with the Raspberry Pi and insert the SD card\n",
    "2. Insert the contact microphones into the inputs of the board (up to four)\n",
    "3. Set up any code necessary to view the plots in real time\n",
    "4. Run the sensor display and wait until all the channels produce a steady signal\n",
    "5. Start the data logger and wait about one minute\n",
    "6. Stop the logging and remove the SD card\n",
    "7. Analyse the data to find out the heart rates of the connected students \n",
    "8. Write code to detect peaks and automatically calculate the heart rates"
   ]
  },
  {
   "cell_type": "markdown",
   "metadata": {},
   "source": [
    "Set up the device as indicated in the outline above. Have the students whose heart rate will be monitored tape the piezosensors onto the pad of their thumbs. Do not tape it too softly, or else it won't correctly pick up the pulese. Do not tape it too tightly as to break or crack the sensor either."
   ]
  },
  {
   "cell_type": "markdown",
   "metadata": {},
   "source": [
    "In this section we will set up the code to view the voltage in real time and learn how to use the sensor display library. Firstly, we have to import the library (SensDisLib) and create a new instance of it. Do this below."
   ]
  },
  {
   "cell_type": "code",
   "execution_count": null,
   "metadata": {
    "collapsed": false
   },
   "outputs": [],
   "source": [
    "import SensDisLib as s\n",
    "plot = s.SensorDisplay()"
   ]
  },
  {
   "cell_type": "markdown",
   "metadata": {},
   "source": [
    "Now we have to add to our display the channels that are connected. We can do this by the add_sensor_X(\"Name\") method. For example, if we wanted to view channel four and call it \"My Heartbeat\", we would call .add_sensor_one(\"My Heartbeat\"). The variable we call in the constructor (\"My Heartbeat\") will be name of the graph that is displayed. Write the code to view the sensors that you want to use below."
   ]
  },
  {
   "cell_type": "code",
   "execution_count": null,
   "metadata": {
    "collapsed": false
   },
   "outputs": [],
   "source": [
    "plot.add_sensor_one(\"Person one\")\n",
    "plot.add_sensor_two(\"Person two\")\n",
    "plot.add_sensor_three(\"Person three\")\n",
    "plot.add_sensor_four(\"Person four\")"
   ]
  },
  {
   "cell_type": "markdown",
   "metadata": {},
   "source": [
    "Now run the it via the runPlot() method."
   ]
  },
  {
   "cell_type": "code",
   "execution_count": null,
   "metadata": {
    "collapsed": true
   },
   "outputs": [],
   "source": [
    "#plot.runPlot()"
   ]
  },
  {
   "cell_type": "markdown",
   "metadata": {},
   "source": [
    "You may notice that you don't see a very strong signal and the line is flat when you are sitting still. This is because the default voltage (y- axis) range is zoomed out to (0, 4096). However, we can modify this with the setYRange_sensor_x(low, high) method. For example, I wanted to zoom in on the voltage range (500, 700) on channel two, I would call setYRange_sensor_two(500, 700). Look at the plot and estimate a reasonable range to zoom on onto (about ±150 volts of the steady voltage) and set this for the necessary plots. Make sure you write this code before you call runPlot(), or comment it out above and write it again."
   ]
  },
  {
   "cell_type": "code",
   "execution_count": null,
   "metadata": {
    "collapsed": false
   },
   "outputs": [],
   "source": [
    "plot.setYRange_sensor_one(1800, 2100);\n",
    "plot.setYRange_sensor_two(1800, 2100);\n",
    "plot.setYRange_sensor_three(1800, 2100);\n",
    "plot.setYRange_sensor_four(1800, 2100);\n",
    "plot.runPlot()"
   ]
  },
  {
   "cell_type": "markdown",
   "metadata": {},
   "source": [
    "Run the program again, you should see a much clearer graph and see little bumps that indicate your heartbeat. Sit really still and wait for the graphs to stabalize. When the graphs do stabalize, have someone start logging the data onto the SD card. Hold still for about one minute, watching the plot to make sure that there are no huge disturbances.  Once one minute has passed, stop the data logger and close the plotter. Now remove the SD card and insert it into a computer. Open the SD card on the computer and locate/open the data file. There should be several columns, the first one being the time and the next several being the data of each sensor. Use excel to graph the data vs time as a scatter plot. \n",
    "\n",
    "We should now have a rough idea of what the graph looks like. Insert a trendline and set it to a twelve point moving average. You should see that it identifies the peaks quite clearly! Hover your mouse over the peaks and record the time for approximately ten successive points. Calculate the time differences between each one (first and second, second and third, ..., ninth and tenth) to get nine different time differences. Average these time differences to get an approximatation of the period of your heart rate!\n",
    "\n",
    "Calculate your heart rate by calculating how many pulses are expected in one minute. The normal resting heart rate of an adult ranged from 60 to 100 BPM, however do not be alarmed if your calculated value is outside of this range, as there could be some errors that occured with this experiment!"
   ]
  },
  {
   "cell_type": "markdown",
   "metadata": {},
   "source": [
    "####Extra: Programming the BPM calculation\n",
    "\n",
    "In this section we will write a program that will automatically calculate the BPM from a stream of heart rate data in real time. We can directly get information from the sensors by calling the get_raw_sensor(x) method. For example if I wanted the immediate voltage of sensor one, I would call get_raw_sensor(one). We will also need the time library to calculate time differences. The pseudocode for this program is written below.\n",
    "\n",
    "\n",
    "```python \n",
    "    import SensDisLib as plot\n",
    "    import time\n",
    "\n",
    "    numPeak = 0\n",
    "    maxIteration\n",
    "    threshHold\n",
    "    \n",
    "    lastTime = 0\n",
    "    \n",
    "    timeDifferences = []\n",
    "    \n",
    "    while(numPeaks < maxIteration):\n",
    "        if(currently at a peak):\n",
    "            if(numPeaks > 0):\n",
    "                timeDifferences.append(time.time() - lastTime)\n",
    "            lastTime = time.time()\n",
    "            numPeaks += 1\n",
    "\n",
    "    print average of timeDifferences #period of beat\n",
    "    print beatsPerMinute```\n",
    " \n",
    "\n",
    "What this does is it continously reads in data from the sensors and remembers two voltages. It then checks if we are currently at a peak. Think of what we can check to see if we are at a peak or not. Perhaps we can set a threshhold and check to see if we are above that threshhold and the last voltage was below it. But this implementation is prone to error, so we need a way of making it more robust. Discuss with your group/class a way to implement a robust way of peak detection and implement it. \n",
    "\n",
    "After we detect a peak, we append to our timeDifference array, the difference in the times of the peaks. After we have detected maxIteration number of peaks, we will have maxIteration-1 timeDifferences. We then calculate the average of all the values in the array for an approximation of the period of the heart beat. Finally we convert it to pulses/beats per minute and print it out."
   ]
  },
  {
   "cell_type": "code",
   "execution_count": null,
   "metadata": {
    "collapsed": true
   },
   "outputs": [],
   "source": []
  }
 ],
 "metadata": {
  "kernelspec": {
   "display_name": "Python 2",
   "language": "python",
   "name": "python2"
  },
  "language_info": {
   "codemirror_mode": {
    "name": "ipython",
    "version": 2
   },
   "file_extension": ".py",
   "mimetype": "text/x-python",
   "name": "python",
   "nbconvert_exporter": "python",
   "pygments_lexer": "ipython2",
   "version": "2.7.10"
  }
 },
 "nbformat": 4,
 "nbformat_minor": 0
}
