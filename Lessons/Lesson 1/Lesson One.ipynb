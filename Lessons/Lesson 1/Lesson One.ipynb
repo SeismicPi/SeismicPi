{
 "cells": [
  {
   "cell_type": "markdown",
   "metadata": {
    "slideshow": {
     "slide_type": "slide"
    }
   },
   "source": [
    "#Lesson One\n",
    "\n",
    "This lesson will go over digital **data input** and introduction to programming in **Python**."
   ]
  },
  {
   "cell_type": "markdown",
   "metadata": {},
   "source": [
    "##Sensors\n",
    "\n",
    "If someone were to ask you what color an apple is, you would look at the apple and tell them what color you saw. If they then asked you which smelled better, roses or lillies, you would use your nose to smell both of them. Humans get information around their surroundings through our five senses, sight, hearing, touch, smell, and taste. Similarly, robots and computers can collect information by using **sensors**. Sensors are the wardrobe between real life and the digital world. Whenever your favorite singer records a new album, she has to record it using a microphone, which is a sensor that can detect and record sound. When producers record the latest action movie, they use video cameras, which is a sensor that can detect light.\n",
    "\n",
    "With the class or in a group, discuss what other types of sensors a computer might use to get information."
   ]
  },
  {
   "cell_type": "markdown",
   "metadata": {},
   "source": [
    "##Types of Sensors\n",
    "\n",
    "There are two main types of sensors, **digital** and **analog**. A digital sensor is one that can record whether a signal is on or off, for example a button. On the other hand, an **analog** sensor is one that can record a spectrum of values, or possibly **infinitly** many. One example is a temperature sensor. If a temperature sensor can record values from $0 ^\\circ$C to $30^\\circ$C. One possible value it can record is $10^\\circ$C, or $15^\\circ$C, or $14.12^\\circ$C, or $3.141592^\\circ$C. If I were to keep on listing numbers, it would be impossible for me to list every single possible value that the sensor could record!\n",
    "\n",
    "With the class, for each sensor that you listed in the exercise above, indicate whether it is digital or analog."
   ]
  },
  {
   "cell_type": "markdown",
   "metadata": {},
   "source": [
    "#Introduction to Python\n",
    "\n",
    "Here we will introduce you to **python**, a high level language that will allow us to send commands to the Raspberry Pi and PSoC.\n",
    "\n",
    "Firstly, python can be used as a calculator, and can be used to easily do arithmetic. In the code blocks (blocks with In[] and are shaded gray), you can write python code and run it by pressing \"shift + enter. In the example below, see how you can perform simple operations. Remember to press \"shift + enter\" or the \"run\" button in the toolbar."
   ]
  },
  {
   "cell_type": "code",
   "execution_count": null,
   "metadata": {
    "collapsed": false
   },
   "outputs": [],
   "source": [
    "print 40 + 2"
   ]
  },
  {
   "cell_type": "code",
   "execution_count": null,
   "metadata": {
    "collapsed": false
   },
   "outputs": [],
   "source": [
    "print 7*6"
   ]
  },
  {
   "cell_type": "code",
   "execution_count": null,
   "metadata": {
    "collapsed": false
   },
   "outputs": [],
   "source": [
    "print 67-25"
   ]
  },
  {
   "cell_type": "code",
   "execution_count": null,
   "metadata": {
    "collapsed": false
   },
   "outputs": [],
   "source": [
    "print 798/19"
   ]
  },
  {
   "cell_type": "markdown",
   "metadata": {},
   "source": [
    "We use the ```print``` statement in order to indicate that we want to display the answer to the screen. In the box below, write code to find the answers to the following.\n",
    "\n",
    "1. 5719*35914\n",
    "2. 7491484+49144192\n",
    "3. 7028004/17\n",
    "4. 4910441-104313"
   ]
  },
  {
   "cell_type": "code",
   "execution_count": null,
   "metadata": {
    "collapsed": false
   },
   "outputs": [],
   "source": [
    "#Write your code here\n",
    "\n",
    "#Solution\n",
    "print 5719*35914\n",
    "print 7491484+49144192\n",
    "print 7028004/17\n",
    "print 4910441-104313"
   ]
  },
  {
   "cell_type": "markdown",
   "metadata": {},
   "source": [
    "We can also use the print system to print letters and words, such as the example below. In order to ```print``` a word, the word has to be surrounded by a pair of quotation marks (\" \")"
   ]
  },
  {
   "cell_type": "code",
   "execution_count": null,
   "metadata": {
    "collapsed": false
   },
   "outputs": [],
   "source": [
    "print \"Hi, I Love Python\""
   ]
  },
  {
   "cell_type": "markdown",
   "metadata": {},
   "source": [
    "Write some code below to display \"Hi, my name is (your name here)!\"."
   ]
  },
  {
   "cell_type": "code",
   "execution_count": 1,
   "metadata": {
    "collapsed": false
   },
   "outputs": [
    {
     "name": "stdout",
     "output_type": "stream",
     "text": [
      "Hi, my name is Nom!\n"
     ]
    }
   ],
   "source": [
    "#Write your code here\n",
    "\n",
    "#Solution\n",
    "print \"Hi, my name is Nom!\""
   ]
  },
  {
   "cell_type": "markdown",
   "metadata": {},
   "source": [
    "One important concept/ability that programming can do is to remember past values using **variables**. We can them to remember past values, then call on them later on when we need their values. For example, the example below stores a name, then prints it out."
   ]
  },
  {
   "cell_type": "code",
   "execution_count": null,
   "metadata": {
    "collapsed": false
   },
   "outputs": [],
   "source": [
    "name = \"Billy\"\n",
    "\n",
    "print name"
   ]
  },
  {
   "cell_type": "markdown",
   "metadata": {},
   "source": [
    "However, if we then _reassign_ the variable later on, it will remember the latest assignment.\n"
   ]
  },
  {
   "cell_type": "code",
   "execution_count": null,
   "metadata": {
    "collapsed": false
   },
   "outputs": [],
   "source": [
    "name = \"Bobby\"\n",
    "name = \"Bambi\"\n",
    "\n",
    "print name"
   ]
  },
  {
   "cell_type": "markdown",
   "metadata": {},
   "source": [
    "##Interfacing with the Raspberry Pi\n",
    "\n",
    "Now we will see how we can use python to read sensors with the Raspberry pi. If you are unfamiliar with the raspberry pi please read the getting started with raspberry pi lesson [here](https://www.raspberrypi.org/learning/getting-started-with-raspberry-pi-lesson/lesson-1/plan/).\n",
    "\n",
    "Once you have set up the PSoC board with the raspberry pi, follow instructions on how to connect the button with the pi. "
   ]
  },
  {
   "cell_type": "code",
   "execution_count": null,
   "metadata": {
    "collapsed": true
   },
   "outputs": [],
   "source": [
    "#import python library with buttonPressed() method\n",
    "#b = new Button()\n"
   ]
  },
  {
   "cell_type": "markdown",
   "metadata": {},
   "source": [
    "Remember how before we dealt with numbers such as 1,49,3 in the calculations section. Those are a class of values called **integers**, and the words, such as \"Bambi\", \"Bobby\", \"Hi\", are values known as **strings**. Here we will introduce another type of values called **booleans**. Simply put, booleans are either true or false and are denoted as \"True\" and \"False\". We can print them like we did with integers and strings."
   ]
  },
  {
   "cell_type": "code",
   "execution_count": null,
   "metadata": {
    "collapsed": false
   },
   "outputs": [],
   "source": [
    "yes = True\n",
    "no = False\n",
    "\n",
    "print yes\n",
    "print no"
   ]
  },
  {
   "cell_type": "markdown",
   "metadata": {},
   "source": [
    "Booleans are useful because they are needed for **control flow** statements. Control flow statements specifies the order individual statements should be made. The one covered here is the **if/else** structure. An example is shown below."
   ]
  },
  {
   "cell_type": "code",
   "execution_count": null,
   "metadata": {
    "collapsed": false
   },
   "outputs": [],
   "source": [
    "if(True):\n",
    "    print \"THIS IS TRUE\"\n",
    "else:\n",
    "    print \"THIS IS FALSE\""
   ]
  },
  {
   "cell_type": "markdown",
   "metadata": {},
   "source": [
    "The first line in the program asks whether or not the statement in the parenthesis is True, or False. Since it is true, it runs the lines following the if statement, thus it prints \"THIS IS TRUE\". Compare it to the example below."
   ]
  },
  {
   "cell_type": "code",
   "execution_count": null,
   "metadata": {
    "collapsed": false
   },
   "outputs": [],
   "source": [
    "if(False):\n",
    "    print \"THIS IS TRUE\"\n",
    "else:\n",
    "    print \"THIS IS FALSE\""
   ]
  },
  {
   "cell_type": "markdown",
   "metadata": {},
   "source": [
    "In the example above, the boolean value in the \"if\" statement's parenthesis is False, so it skips over it and runs the statement in code following the \"else\" block. If statements don't have just take in True or False, but also variables that contain boolean values. See the example below."
   ]
  },
  {
   "cell_type": "code",
   "execution_count": null,
   "metadata": {
    "collapsed": false
   },
   "outputs": [],
   "source": [
    "like_candy = True\n",
    "\n",
    "if(like_candy):\n",
    "    print \"You like candy\"\n",
    "else:\n",
    "    print \"You do not like candy\""
   ]
  },
  {
   "cell_type": "markdown",
   "metadata": {},
   "source": [
    "We set the variable \"like_candy\" to True and then pass it in the if statement. Since like_candy is true, we run the code following the if block. "
   ]
  },
  {
   "cell_type": "markdown",
   "metadata": {},
   "source": [
    "Now we will see how we can use these tools to write a simple program that can interface with sensors. A button is a digital sensor, and one way we can see it is to call b.buttonPressed(). This is pretty complicated syntax, so don't worry about it for now. Just know that b.buttonPressed() returns a boolean value, corresponding to whether the button is pressed or not. If the button is pressed, b.buttonPressed() is True, if the button is not presesd, it is false.\n",
    "\n",
    "Do not press the button and run the following code."
   ]
  },
  {
   "cell_type": "code",
   "execution_count": null,
   "metadata": {
    "collapsed": false
   },
   "outputs": [],
   "source": [
    "#print b.buttonPressed()"
   ]
  },
  {
   "cell_type": "markdown",
   "metadata": {},
   "source": [
    "Now press the button and run the code above again (just click on it and do \"shift + enter\")."
   ]
  },
  {
   "cell_type": "markdown",
   "metadata": {},
   "source": [
    "Predict what the following code would do\n",
    "\n",
    "```python\n",
    "if(b.buttonPressed()):\n",
    "    print \"I AM IM-PRESSED\"\n",
    "else:\n",
    "    print \"I AM NOT IM-PRESSED\"\n",
    "    \n",
    "    ```\n",
    "    \n",
    "Write some code below that prints your name if the button is pressed, and your friends name if it is not pressed."
   ]
  },
  {
   "cell_type": "code",
   "execution_count": null,
   "metadata": {
    "collapsed": true
   },
   "outputs": [],
   "source": [
    "#code here"
   ]
  },
  {
   "cell_type": "markdown",
   "metadata": {},
   "source": [
    "Congratulations! You've learned how to read data from a sensor and a program that behaves in different ways - whether the button is pressed or not."
   ]
  },
  {
   "cell_type": "code",
   "execution_count": null,
   "metadata": {
    "collapsed": true
   },
   "outputs": [],
   "source": []
  }
 ],
 "metadata": {
  "kernelspec": {
   "display_name": "Python 2",
   "language": "python",
   "name": "python2"
  },
  "language_info": {
   "codemirror_mode": {
    "name": "ipython",
    "version": 2
   },
   "file_extension": ".py",
   "mimetype": "text/x-python",
   "name": "python",
   "nbconvert_exporter": "python",
   "pygments_lexer": "ipython2",
   "version": "2.7.10"
  }
 },
 "nbformat": 4,
 "nbformat_minor": 0
}
